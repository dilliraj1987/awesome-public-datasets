{
  "nbformat": 4,
  "nbformat_minor": 0,
  "metadata": {
    "colab": {
      "provenance": [],
      "authorship_tag": "ABX9TyMi0Y5dXapI/vCgekwQR8sN",
      "include_colab_link": true
    },
    "kernelspec": {
      "name": "python3",
      "display_name": "Python 3"
    },
    "language_info": {
      "name": "python"
    }
  },
  "cells": [
    {
      "cell_type": "markdown",
      "metadata": {
        "id": "view-in-github",
        "colab_type": "text"
      },
      "source": [
        "<a href=\"https://colab.research.google.com/github/dilliraj1987/awesome-public-datasets/blob/master/CNN_With_Large_Dataset.ipynb\" target=\"_parent\"><img src=\"https://colab.research.google.com/assets/colab-badge.svg\" alt=\"Open In Colab\"/></a>"
      ]
    },
    {
      "cell_type": "code",
      "source": [
        "!git clone \"https://github.com/vadivukar/GV_DeepLearning/\""
      ],
      "metadata": {
        "id": "ZVXrtkQCFyJi",
        "colab": {
          "base_uri": "https://localhost:8080/"
        },
        "outputId": "4376af9e-6a33-4848-f2a1-409314fbd5df"
      },
      "execution_count": 12,
      "outputs": [
        {
          "output_type": "stream",
          "name": "stdout",
          "text": [
            "fatal: destination path 'GV_DeepLearning' already exists and is not an empty directory.\n"
          ]
        }
      ]
    },
    {
      "cell_type": "code",
      "source": [
        "!git clone https://github.com/laxmimerit/dog-cat-full-dataset"
      ],
      "metadata": {
        "colab": {
          "base_uri": "https://localhost:8080/"
        },
        "id": "Q_s7LXpk-vnO",
        "outputId": "12315140-df51-4dd3-f4c9-a7bfbb4cde21"
      },
      "execution_count": 13,
      "outputs": [
        {
          "output_type": "stream",
          "name": "stdout",
          "text": [
            "fatal: destination path 'dog-cat-full-dataset' already exists and is not an empty directory.\n"
          ]
        }
      ]
    },
    {
      "cell_type": "code",
      "source": [
        "import tensorflow as tf\n",
        "from keras.preprocessing.image import ImageDataGenerator"
      ],
      "metadata": {
        "id": "-fqht9Rk-3WT"
      },
      "execution_count": 14,
      "outputs": []
    },
    {
      "cell_type": "code",
      "source": [
        "tf.__version__"
      ],
      "metadata": {
        "colab": {
          "base_uri": "https://localhost:8080/",
          "height": 36
        },
        "id": "PVhRLQRz--ys",
        "outputId": "0bdf1099-f6aa-4b2c-f3ea-c3a4301fc9c4"
      },
      "execution_count": 15,
      "outputs": [
        {
          "output_type": "execute_result",
          "data": {
            "text/plain": [
              "'2.8.2'"
            ],
            "application/vnd.google.colaboratory.intrinsic+json": {
              "type": "string"
            }
          },
          "metadata": {},
          "execution_count": 15
        }
      ]
    },
    {
      "cell_type": "code",
      "source": [
        "import pandas as pd"
      ],
      "metadata": {
        "id": "JEtbuFdQ_A2q"
      },
      "execution_count": 16,
      "outputs": []
    },
    {
      "cell_type": "code",
      "source": [
        "train_datagen = ImageDataGenerator(rescale = 1./255,\n",
        "                                   shear_range = 0.2,\n",
        "                                   zoom_range = 0.2,\n",
        "                                   horizontal_flip = True)\n",
        "\n",
        "training_set = train_datagen.flow_from_directory('/content/dog-cat-full-dataset/data/train',\n",
        "                                                 target_size = (64, 64),\n",
        "                                                 batch_size = 32,\n",
        "                                                 class_mode = 'binary')"
      ],
      "metadata": {
        "colab": {
          "base_uri": "https://localhost:8080/"
        },
        "id": "kN1Ns0pv_Dt0",
        "outputId": "65fc0164-4eda-484e-c3c0-8bdbe5945090"
      },
      "execution_count": 17,
      "outputs": [
        {
          "output_type": "stream",
          "name": "stdout",
          "text": [
            "Found 20000 images belonging to 2 classes.\n"
          ]
        }
      ]
    },
    {
      "cell_type": "code",
      "source": [
        "test_datagen = ImageDataGenerator(rescale = 1./255)\n",
        "test_set = test_datagen.flow_from_directory('/content/dog-cat-full-dataset/data/test',\n",
        "                                            target_size = (64, 64),\n",
        "                                            batch_size = 32,\n",
        "                                            class_mode = 'binary')"
      ],
      "metadata": {
        "colab": {
          "base_uri": "https://localhost:8080/"
        },
        "id": "eLoJM1xB_HKz",
        "outputId": "239d10e0-9ee1-440a-ea5d-11e3b6fa8d45"
      },
      "execution_count": 18,
      "outputs": [
        {
          "output_type": "stream",
          "name": "stdout",
          "text": [
            "Found 5000 images belonging to 2 classes.\n"
          ]
        }
      ]
    },
    {
      "cell_type": "code",
      "source": [
        "cnn = tf.keras.models.Sequential() #Initializing CNN"
      ],
      "metadata": {
        "id": "X0xja1U3_LAI"
      },
      "execution_count": 19,
      "outputs": []
    },
    {
      "cell_type": "code",
      "source": [
        "cnn.add(tf.keras.layers.Conv2D(filters=32, kernel_size=3, activation='relu', \n",
        "                               input_shape=[64, 64, 3])) #Convolution Layer1 in 2D with 32 filters, 3 Kernel Size\n",
        "cnn.add(tf.keras.layers.MaxPool2D(pool_size=2, strides=2)) #Pooling Layer1\n",
        "cnn.add(tf.keras.layers.Conv2D(filters=32, kernel_size=3, activation='relu')) #Convolution Layer2\n",
        "cnn.add(tf.keras.layers.MaxPool2D(pool_size=2, strides=2)) #Pooling Layer1\n",
        "cnn.add(tf.keras.layers.Flatten()) #Flatten Layer\n",
        "cnn.add(tf.keras.layers.Dense(units=128, activation='relu')) #Dense Layer1\n",
        "cnn.add(tf.keras.layers.Dense(units=1, activation='sigmoid')) #Dense Layer2\n",
        "cnn.compile(optimizer = 'adam', loss = 'binary_crossentropy', metrics = ['accuracy'])\n",
        "cnn.fit(x = training_set, validation_data = test_set, epochs = 10)"
      ],
      "metadata": {
        "colab": {
          "base_uri": "https://localhost:8080/"
        },
        "id": "5gzxmOTV_O8G",
        "outputId": "60486b34-c238-4f70-d261-2fd054b7a1df"
      },
      "execution_count": 20,
      "outputs": [
        {
          "output_type": "stream",
          "name": "stdout",
          "text": [
            "Epoch 1/10\n",
            "625/625 [==============================] - 164s 261ms/step - loss: 0.6155 - accuracy: 0.6568 - val_loss: 0.5424 - val_accuracy: 0.7248\n",
            "Epoch 2/10\n",
            "625/625 [==============================] - 162s 259ms/step - loss: 0.5278 - accuracy: 0.7344 - val_loss: 0.5373 - val_accuracy: 0.7404\n",
            "Epoch 3/10\n",
            "625/625 [==============================] - 165s 264ms/step - loss: 0.4843 - accuracy: 0.7656 - val_loss: 0.5298 - val_accuracy: 0.7340\n",
            "Epoch 4/10\n",
            "625/625 [==============================] - 163s 260ms/step - loss: 0.4544 - accuracy: 0.7843 - val_loss: 0.4850 - val_accuracy: 0.7718\n",
            "Epoch 5/10\n",
            "625/625 [==============================] - 160s 256ms/step - loss: 0.4343 - accuracy: 0.7946 - val_loss: 0.4609 - val_accuracy: 0.7876\n",
            "Epoch 6/10\n",
            "625/625 [==============================] - 161s 257ms/step - loss: 0.4135 - accuracy: 0.8080 - val_loss: 0.4085 - val_accuracy: 0.8148\n",
            "Epoch 7/10\n",
            "625/625 [==============================] - 162s 258ms/step - loss: 0.3992 - accuracy: 0.8181 - val_loss: 0.3951 - val_accuracy: 0.8228\n",
            "Epoch 8/10\n",
            "625/625 [==============================] - 161s 258ms/step - loss: 0.3810 - accuracy: 0.8241 - val_loss: 0.4045 - val_accuracy: 0.8160\n",
            "Epoch 9/10\n",
            "625/625 [==============================] - 166s 266ms/step - loss: 0.3684 - accuracy: 0.8357 - val_loss: 0.4215 - val_accuracy: 0.8174\n",
            "Epoch 10/10\n",
            "625/625 [==============================] - 165s 264ms/step - loss: 0.3550 - accuracy: 0.8418 - val_loss: 0.3862 - val_accuracy: 0.8296\n"
          ]
        },
        {
          "output_type": "execute_result",
          "data": {
            "text/plain": [
              "<keras.callbacks.History at 0x7f23e990db10>"
            ]
          },
          "metadata": {},
          "execution_count": 20
        }
      ]
    },
    {
      "cell_type": "code",
      "source": [
        "cnn.summary()"
      ],
      "metadata": {
        "colab": {
          "base_uri": "https://localhost:8080/"
        },
        "id": "J1Vjuq3XMMxq",
        "outputId": "3b8cd2f3-1243-4baa-c927-3da62c3aad21"
      },
      "execution_count": 21,
      "outputs": [
        {
          "output_type": "stream",
          "name": "stdout",
          "text": [
            "Model: \"sequential_1\"\n",
            "_________________________________________________________________\n",
            " Layer (type)                Output Shape              Param #   \n",
            "=================================================================\n",
            " conv2d_3 (Conv2D)           (None, 62, 62, 32)        896       \n",
            "                                                                 \n",
            " max_pooling2d_2 (MaxPooling  (None, 31, 31, 32)       0         \n",
            " 2D)                                                             \n",
            "                                                                 \n",
            " conv2d_4 (Conv2D)           (None, 29, 29, 32)        9248      \n",
            "                                                                 \n",
            " max_pooling2d_3 (MaxPooling  (None, 14, 14, 32)       0         \n",
            " 2D)                                                             \n",
            "                                                                 \n",
            " flatten_1 (Flatten)         (None, 6272)              0         \n",
            "                                                                 \n",
            " dense_2 (Dense)             (None, 128)               802944    \n",
            "                                                                 \n",
            " dense_3 (Dense)             (None, 1)                 129       \n",
            "                                                                 \n",
            "=================================================================\n",
            "Total params: 813,217\n",
            "Trainable params: 813,217\n",
            "Non-trainable params: 0\n",
            "_________________________________________________________________\n"
          ]
        }
      ]
    },
    {
      "cell_type": "code",
      "source": [
        "import numpy as np\n",
        "from keras.preprocessing import image\n",
        "test_image = image.load_img('/content/GV_DeepLearning/Dataset/SingleImage/cat_or_dog_1.jpg', \n",
        "                            target_size = (64, 64))\n",
        "test_image = image.img_to_array(test_image)\n",
        "test_image = np.expand_dims(test_image, axis = 0)\n",
        "result = cnn.predict(test_image)\n",
        "training_set.class_indices\n",
        "if result[0][0] == 1:\n",
        "  prediction = 'dog'\n",
        "else:\n",
        "  prediction = 'cat'"
      ],
      "metadata": {
        "id": "OfbfaxoQ_ju6"
      },
      "execution_count": 22,
      "outputs": []
    },
    {
      "cell_type": "code",
      "source": [
        "print(prediction)"
      ],
      "metadata": {
        "colab": {
          "base_uri": "https://localhost:8080/"
        },
        "id": "adjKWQYR_qlX",
        "outputId": "360050ee-74e1-4784-fdd1-48eef5af9596"
      },
      "execution_count": 23,
      "outputs": [
        {
          "output_type": "stream",
          "name": "stdout",
          "text": [
            "dog\n"
          ]
        }
      ]
    },
    {
      "cell_type": "code",
      "source": [
        "import numpy as np\n",
        "from keras.preprocessing import image\n",
        "test_image = image.load_img('/content/GV_DeepLearning/Dataset/SingleImage/cat_or_dog_2.jpg', \n",
        "                            target_size = (64, 64))\n",
        "test_image = image.img_to_array(test_image)\n",
        "test_image = np.expand_dims(test_image, axis = 0)\n",
        "result = cnn.predict(test_image)\n",
        "training_set.class_indices\n",
        "if result[0][0] == 1:\n",
        "  prediction = 'dog'\n",
        "else:\n",
        "  prediction = 'cat'"
      ],
      "metadata": {
        "id": "qt0kooNpR5gv"
      },
      "execution_count": 24,
      "outputs": []
    },
    {
      "cell_type": "code",
      "source": [
        "print(prediction)"
      ],
      "metadata": {
        "colab": {
          "base_uri": "https://localhost:8080/"
        },
        "id": "32I9z5pRR6b6",
        "outputId": "59495e93-f0c0-490e-8a51-c51bb9837d31"
      },
      "execution_count": 25,
      "outputs": [
        {
          "output_type": "stream",
          "name": "stdout",
          "text": [
            "cat\n"
          ]
        }
      ]
    },
    {
      "cell_type": "code",
      "source": [],
      "metadata": {
        "id": "cvbqXcWNR8c1"
      },
      "execution_count": null,
      "outputs": []
    }
  ]
}